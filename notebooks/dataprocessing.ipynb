{
 "cells": [
  {
   "cell_type": "code",
   "execution_count": 3,
   "id": "041e5781",
   "metadata": {},
   "outputs": [],
   "source": [
    "\n",
    "import pandas as pd\n",
    "from dateutil import parser "
   ]
  },
  {
   "cell_type": "code",
   "execution_count": 4,
   "id": "6dab196f",
   "metadata": {},
   "outputs": [],
   "source": [
    "df = pd.read_csv(\"../data/structured_telegram_jobs.csv\")"
   ]
  },
  {
   "cell_type": "code",
   "execution_count": 5,
   "id": "3f258058",
   "metadata": {},
   "outputs": [],
   "source": [
    "df.rename(columns={\"location\": \"max_experience\"}, inplace=True)\n"
   ]
  },
  {
   "cell_type": "code",
   "execution_count": 6,
   "id": "64860f8a",
   "metadata": {},
   "outputs": [],
   "source": [
    "desired_order = [\n",
    "    \"date\", \"job_title\", \"organization\", \"experience\", \"max_experience\",\n",
    "    \"quantity_required\", \"salary\", \"gender\", \"deadline\",\n",
    "    \"how_to_apply\", \"tags\", \"category\", \"raw_text\"\n",
    "]\n",
    "\n",
    "df = df[desired_order]"
   ]
  },
  {
   "cell_type": "code",
   "execution_count": 7,
   "id": "d463aba2",
   "metadata": {},
   "outputs": [],
   "source": [
    "# Convert experience column to numeric (if it's not already)\n",
    "df[\"experience\"] = pd.to_numeric(df[\"experience\"], errors=\"coerce\")\n",
    "\n",
    "# Keep only rows where experience is exactly 0\n",
    "df = df[df[\"experience\"] == 0]\n",
    "\n",
    "# Optional: Reset the index after filtering\n",
    "df.reset_index(drop=True, inplace=True)\n"
   ]
  }
 ],
 "metadata": {
  "kernelspec": {
   "display_name": "myenv",
   "language": "python",
   "name": "python3"
  },
  "language_info": {
   "codemirror_mode": {
    "name": "ipython",
    "version": 3
   },
   "file_extension": ".py",
   "mimetype": "text/x-python",
   "name": "python",
   "nbconvert_exporter": "python",
   "pygments_lexer": "ipython3",
   "version": "3.12.3"
  }
 },
 "nbformat": 4,
 "nbformat_minor": 5
}
